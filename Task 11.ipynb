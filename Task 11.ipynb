{
 "cells": [
  {
   "cell_type": "markdown",
   "metadata": {},
   "source": [
    "### Task11 : Go through\n",
    "reduce()\n",
    "zip()\n",
    "enumerate()"
   ]
  },
  {
   "cell_type": "markdown",
   "metadata": {},
   "source": [
    "#### reduce() \n",
    "\n",
    "The reduce(fun,seq) function is used to apply a particular function passed in its\n",
    "argument to all of the list elements mentioned in the sequence passed along.\n",
    "This function is defined in “functools” module."
   ]
  },
  {
   "cell_type": "code",
   "execution_count": 1,
   "metadata": {},
   "outputs": [],
   "source": [
    "# import functools and then use fully-qualified names like functools.reduce().\n",
    "#from functools import reduce and then call reduce() directly."
   ]
  },
  {
   "cell_type": "code",
   "execution_count": 6,
   "metadata": {},
   "outputs": [
    {
     "data": {
      "text/plain": [
       "3"
      ]
     },
     "execution_count": 6,
     "metadata": {},
     "output_type": "execute_result"
    }
   ],
   "source": [
    "def my_add(a, b):\n",
    "      return a + b\n",
    "\n",
    "\n",
    "my_add(1, 2)"
   ]
  },
  {
   "cell_type": "code",
   "execution_count": 7,
   "metadata": {},
   "outputs": [
    {
     "data": {
      "text/plain": [
       "10"
      ]
     },
     "execution_count": 7,
     "metadata": {},
     "output_type": "execute_result"
    }
   ],
   "source": [
    "from functools import reduce\n",
    "\n",
    "numbers = [1, 2, 3, 4]\n",
    "\n",
    "reduce(my_add, numbers)"
   ]
  },
  {
   "cell_type": "code",
   "execution_count": 8,
   "metadata": {},
   "outputs": [
    {
     "name": "stdout",
     "output_type": "stream",
     "text": [
      "x= 1  y= 2\n",
      "x= 2  y= 3\n",
      "Factorial of 3:  6\n"
     ]
    }
   ],
   "source": [
    "import functools\n",
    "def mult(x,y):\n",
    "    print(\"x=\",x,\" y=\",y)\n",
    "    return x*y\n",
    "\n",
    "fact=functools.reduce(mult, range(1, 4))\n",
    "print ('Factorial of 3: ', fact)"
   ]
  },
  {
   "cell_type": "markdown",
   "metadata": {},
   "source": [
    "### zip() \n",
    "\n",
    "The purpose of Python zip() method is to map the similar index of multiple containers so that they can be used just using as single entity. "
   ]
  },
  {
   "cell_type": "code",
   "execution_count": 10,
   "metadata": {},
   "outputs": [
    {
     "name": "stdout",
     "output_type": "stream",
     "text": [
      "<zip object at 0x000001DDA0272680>\n"
     ]
    }
   ],
   "source": [
    "zip()\n",
    "# initializing lists\n",
    "\n",
    "name = [ \"INDIA\", \"CHINA\", \"USA\", \"SA\" ]\n",
    "Number = [ 1, 2, 3, 4 ]\n",
    "\n",
    "mapped = zip(name, Number)\n",
    "print(mapped)\n"
   ]
  },
  {
   "cell_type": "code",
   "execution_count": 13,
   "metadata": {},
   "outputs": [
    {
     "data": {
      "text/plain": [
       "{('CHINA', 2), ('INDIA', 1), ('SA', 4), ('USA', 3)}"
      ]
     },
     "execution_count": 13,
     "metadata": {},
     "output_type": "execute_result"
    }
   ],
   "source": [
    "#converting values to print as set\n",
    "mapped = set(mapped)\n",
    "mapped"
   ]
  },
  {
   "cell_type": "code",
   "execution_count": 14,
   "metadata": {},
   "outputs": [
    {
     "data": {
      "text/plain": [
       "[('SA', 4), ('INDIA', 1), ('CHINA', 2), ('USA', 3)]"
      ]
     },
     "execution_count": 14,
     "metadata": {},
     "output_type": "execute_result"
    }
   ],
   "source": [
    "#converting values to print as list\n",
    "mapped = list(mapped)\n",
    "mapped"
   ]
  },
  {
   "cell_type": "markdown",
   "metadata": {},
   "source": [
    "#### Enumerate() \n",
    "\n",
    "The Python enumerate() function adds a counter to an iterable object. The counter lets you keep track of how many iterations have occurred. This counter is stored as a separate variable."
   ]
  },
  {
   "cell_type": "code",
   "execution_count": 16,
   "metadata": {},
   "outputs": [],
   "source": [
    "#Syntax: \n",
    "\n",
    "#enumerate(iterable, start=0)\n",
    "\n",
    "#Parameters:\n",
    "#Iterable: any object that supports iteration\n",
    "#Start: the index value from which the counter is \n",
    "              #to be started, by default it is 0"
   ]
  },
  {
   "cell_type": "code",
   "execution_count": 17,
   "metadata": {},
   "outputs": [
    {
     "data": {
      "text/plain": [
       "['Python', 'java', 'c++']"
      ]
     },
     "execution_count": 17,
     "metadata": {},
     "output_type": "execute_result"
    }
   ],
   "source": [
    "l1 = [\"Python\",\"java\",\"c++\"]\n",
    "l1"
   ]
  },
  {
   "cell_type": "code",
   "execution_count": 18,
   "metadata": {},
   "outputs": [],
   "source": [
    "# creating enumerate objects\n",
    "obj1 = enumerate(l1)"
   ]
  },
  {
   "cell_type": "code",
   "execution_count": 19,
   "metadata": {},
   "outputs": [
    {
     "data": {
      "text/plain": [
       "<enumerate at 0x1dda027bd00>"
      ]
     },
     "execution_count": 19,
     "metadata": {},
     "output_type": "execute_result"
    }
   ],
   "source": [
    "obj1"
   ]
  },
  {
   "cell_type": "code",
   "execution_count": 20,
   "metadata": {},
   "outputs": [
    {
     "name": "stdout",
     "output_type": "stream",
     "text": [
      "Return type: <class 'enumerate'>\n",
      "[(0, 'Python'), (1, 'java'), (2, 'c++')]\n"
     ]
    }
   ],
   "source": [
    "print (\"Return type:\",type(obj1))\n",
    "print (list(enumerate(l1)))"
   ]
  },
  {
   "cell_type": "code",
   "execution_count": 21,
   "metadata": {},
   "outputs": [
    {
     "name": "stdout",
     "output_type": "stream",
     "text": [
      "0 Priyanka\n",
      "1 sayali\n",
      "2 pranali\n"
     ]
    }
   ],
   "source": [
    "names = [\"Priyanka\", \"sayali\", \"pranali\"]\n",
    "\n",
    "for n in range(0, len(names)):\n",
    "    print(n, names[n])"
   ]
  },
  {
   "cell_type": "code",
   "execution_count": 22,
   "metadata": {},
   "outputs": [],
   "source": [
    "# using enumerate()"
   ]
  },
  {
   "cell_type": "code",
   "execution_count": 23,
   "metadata": {},
   "outputs": [
    {
     "name": "stdout",
     "output_type": "stream",
     "text": [
      "0 Priyanka\n",
      "1 sayali\n",
      "2 pranali\n"
     ]
    }
   ],
   "source": [
    "names = [\"Priyanka\", \"sayali\", \"pranali\"]\n",
    "\n",
    "for index, name in enumerate(names):\n",
    "     print(index, name)"
   ]
  },
  {
   "cell_type": "code",
   "execution_count": null,
   "metadata": {},
   "outputs": [],
   "source": []
  }
 ],
 "metadata": {
  "kernelspec": {
   "display_name": "Python 3",
   "language": "python",
   "name": "python3"
  },
  "language_info": {
   "codemirror_mode": {
    "name": "ipython",
    "version": 3
   },
   "file_extension": ".py",
   "mimetype": "text/x-python",
   "name": "python",
   "nbconvert_exporter": "python",
   "pygments_lexer": "ipython3",
   "version": "3.8.5"
  }
 },
 "nbformat": 4,
 "nbformat_minor": 4
}
